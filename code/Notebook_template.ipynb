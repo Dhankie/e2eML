{
 "cells": [
  {
   "cell_type": "code",
   "execution_count": 1,
   "id": "1d84ad26-5b92-46c9-ac5d-78a3d5528fc3",
   "metadata": {},
   "outputs": [
    {
     "name": "stderr",
     "output_type": "stream",
     "text": [
      "[2024-08-28 11:32:18,118]: Creating directory; src\\mlProject for the file: __init__.py:\n",
      "[2024-08-28 11:32:18,123]: Creating empty file: src\\mlProject\\__init__.py:\n",
      "[2024-08-28 11:32:18,125]: Creating directory; src\\mlProject\\components for the file: __init__.py:\n",
      "[2024-08-28 11:32:18,126]: Creating empty file: src\\mlProject\\components\\__init__.py:\n",
      "[2024-08-28 11:32:18,128]: Creating directory; src\\mlProject\\utils for the file: __init__.py:\n",
      "[2024-08-28 11:32:18,130]: Creating empty file: src\\mlProject\\utils\\__init__.py:\n",
      "[2024-08-28 11:32:18,132]: Creating directory; src\\mlProject\\utils for the file: common.py:\n",
      "[2024-08-28 11:32:18,133]: Creating empty file: src\\mlProject\\utils\\common.py:\n",
      "[2024-08-28 11:32:18,135]: Creating directory; src\\mlProject\\config for the file: __init__.py:\n",
      "[2024-08-28 11:32:18,137]: Creating empty file: src\\mlProject\\config\\__init__.py:\n",
      "[2024-08-28 11:32:18,138]: Creating directory; src\\mlProject\\config for the file: configuration.py:\n",
      "[2024-08-28 11:32:18,141]: Creating empty file: src\\mlProject\\config\\configuration.py:\n",
      "[2024-08-28 11:32:18,142]: Creating directory; src\\mlProject\\pipeline for the file: __init__.py:\n",
      "[2024-08-28 11:32:18,146]: Creating empty file: src\\mlProject\\pipeline\\__init__.py:\n",
      "[2024-08-28 11:32:18,148]: Creating directory; src\\mlProject\\entity for the file: __init__.py:\n",
      "[2024-08-28 11:32:18,150]: Creating empty file: src\\mlProject\\entity\\__init__.py:\n",
      "[2024-08-28 11:32:18,151]: Creating directory; src\\mlProject\\entity for the file: config_entity.py:\n",
      "[2024-08-28 11:32:18,153]: Creating empty file: src\\mlProject\\entity\\config_entity.py:\n",
      "[2024-08-28 11:32:18,154]: Creating directory; src\\mlProject\\constants for the file: __init__.py:\n",
      "[2024-08-28 11:32:18,156]: Creating empty file: src\\mlProject\\constants\\__init__.py:\n",
      "[2024-08-28 11:32:18,158]: Creating directory; config for the file: config.yaml:\n",
      "[2024-08-28 11:32:18,160]: Creating empty file: config\\config.yaml:\n",
      "[2024-08-28 11:32:18,163]: Creating empty file: params.yaml:\n",
      "[2024-08-28 11:32:18,165]: Creating empty file: schema.yaml:\n",
      "[2024-08-28 11:32:18,167]: Creating empty file: main.py:\n",
      "[2024-08-28 11:32:18,169]: Creating empty file: app.py:\n",
      "[2024-08-28 11:32:18,170]: Creating empty file: requirements.txt:\n",
      "[2024-08-28 11:32:18,173]: Creating empty file: setup.py:\n",
      "[2024-08-28 11:32:18,174]: Creating directory; research for the file: trials.ipynb:\n",
      "[2024-08-28 11:32:18,177]: Creating empty file: research\\trials.ipynb:\n",
      "[2024-08-28 11:32:18,178]: Creating directory; templates for the file: index.html:\n",
      "[2024-08-28 11:32:18,180]: Creating empty file: templates\\index.html:\n"
     ]
    }
   ],
   "source": [
    "import os\n",
    "from pathlib import Path\n",
    "import logging\n",
    "\n",
    "logging.basicConfig(level=logging.INFO, format='[%(asctime)s]: %(message)s:')\n",
    "\n",
    "\n",
    "project_name = \"mlProject\"\n",
    "\n",
    "\n",
    "\n",
    "list_of_files = [\n",
    "    f\"src/{project_name}/__init__.py\",\n",
    "    f\"src/{project_name}/components/__init__.py\",\n",
    "    f\"src/{project_name}/utils/__init__.py\",\n",
    "    f\"src/{project_name}/utils/common.py\",\n",
    "    f\"src/{project_name}/config/__init__.py\",\n",
    "    f\"src/{project_name}/config/configuration.py\",\n",
    "    f\"src/{project_name}/pipeline/__init__.py\",\n",
    "    f\"src/{project_name}/entity/__init__.py\",\n",
    "    f\"src/{project_name}/entity/config_entity.py\",\n",
    "    f\"src/{project_name}/constants/__init__.py\",\n",
    "    \"config/config.yaml\",\n",
    "    \"params.yaml\",\n",
    "    \"schema.yaml\",\n",
    "    \"main.py\",\n",
    "    \"app.py\",\n",
    "    \"requirements.txt\",\n",
    "    \"setup.py\",\n",
    "    \"research/trials.ipynb\",\n",
    "    \"templates/index.html\"\n",
    "\n",
    "\n",
    "]\n",
    "\n",
    "\n",
    "\n",
    "for filepath in list_of_files:\n",
    "    filepath = Path(filepath)\n",
    "\n",
    "    filedir, filename = os.path.split(filepath)\n",
    "\n",
    "    if filedir !=\"\":\n",
    "        os.makedirs(filedir, exist_ok=True)\n",
    "        logging.info(f\"Creating directory; {filedir} for the file: {filename}\")\n",
    "\n",
    "    if (not os.path.exists(filepath)) or (os.path.getsize(filepath) == 0):\n",
    "        with open(filepath, \"w\") as f:\n",
    "            pass\n",
    "            logging.info(f\"Creating empty file: {filepath}\")\n",
    "\n",
    "\n",
    "    else:\n",
    "        logging.info(f\"{filename} is already exists\")"
   ]
  },
  {
   "cell_type": "code",
   "execution_count": 3,
   "id": "073df7dd-e5b1-4903-b7c7-cc821dfb6112",
   "metadata": {},
   "outputs": [
    {
     "name": "stdout",
     "output_type": "stream",
     "text": [
      " Volume in drive C is Windows\n",
      " Volume Serial Number is 2627-7439\n",
      "\n",
      " Directory of C:\\Users\\jn_ay\\Desktop\\Archana\\e2eML\\code\n",
      "\n",
      "28-Aug-24  01:47 PM    <DIR>          .\n",
      "28-Aug-24  11:36 AM    <DIR>          ..\n",
      "28-Aug-24  11:31 AM    <DIR>          .ipynb_checkpoints\n",
      "28-Aug-24  11:32 AM                 0 app.py\n",
      "28-Aug-24  11:32 AM    <DIR>          config\n",
      "28-Aug-24  11:32 AM                 0 main.py\n",
      "28-Aug-24  11:33 AM             5,767 Notebook_template.ipynb\n",
      "28-Aug-24  11:32 AM                 0 params.yaml\n",
      "28-Aug-24  01:48 PM                50 README.md\n",
      "28-Aug-24  08:13 PM               139 requirements.txt\n",
      "28-Aug-24  11:32 AM    <DIR>          research\n",
      "28-Aug-24  11:32 AM                 0 schema.yaml\n",
      "28-Aug-24  11:32 AM                 0 setup.py\n",
      "28-Aug-24  11:32 AM    <DIR>          src\n",
      "28-Aug-24  11:31 AM             1,410 template.py\n",
      "28-Aug-24  11:32 AM    <DIR>          templates\n",
      "               9 File(s)          7,366 bytes\n",
      "               7 Dir(s)  20,557,459,456 bytes free\n"
     ]
    }
   ],
   "source": [
    "ls"
   ]
  },
  {
   "cell_type": "code",
   "execution_count": null,
   "id": "804779ef-abca-467a-b214-fae9b6ddfb3f",
   "metadata": {},
   "outputs": [],
   "source": []
  }
 ],
 "metadata": {
  "kernelspec": {
   "display_name": "Python 3 (ipykernel)",
   "language": "python",
   "name": "python3"
  },
  "language_info": {
   "codemirror_mode": {
    "name": "ipython",
    "version": 3
   },
   "file_extension": ".py",
   "mimetype": "text/x-python",
   "name": "python",
   "nbconvert_exporter": "python",
   "pygments_lexer": "ipython3",
   "version": "3.12.4"
  }
 },
 "nbformat": 4,
 "nbformat_minor": 5
}
